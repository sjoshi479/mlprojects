{
  "nbformat": 4,
  "nbformat_minor": 0,
  "metadata": {
    "colab": {
      "name": "Iris dataset.ipynb",
      "provenance": [],
      "collapsed_sections": [],
      "authorship_tag": "ABX9TyNVSStCUuVncEFQ7Fs2QYmD",
      "include_colab_link": true
    },
    "kernelspec": {
      "name": "python3",
      "display_name": "Python 3"
    },
    "language_info": {
      "name": "python"
    }
  },
  "cells": [
    {
      "cell_type": "markdown",
      "metadata": {
        "id": "view-in-github",
        "colab_type": "text"
      },
      "source": [
        "<a href=\"https://colab.research.google.com/github/sjoshi479/mlprojects/blob/main/Iris_dataset.ipynb\" target=\"_parent\"><img src=\"https://colab.research.google.com/assets/colab-badge.svg\" alt=\"Open In Colab\"/></a>"
      ]
    },
    {
      "cell_type": "code",
      "metadata": {
        "id": "sshVsVGHQlbk"
      },
      "source": [
        "import numpy as np\n",
        "import pandas as pd\n",
        "import warnings\n"
      ],
      "execution_count": 1,
      "outputs": []
    },
    {
      "cell_type": "code",
      "metadata": {
        "id": "LrIhmsT9rPLK"
      },
      "source": [
        "warnings.filterwarnings('ignore')"
      ],
      "execution_count": 2,
      "outputs": []
    },
    {
      "cell_type": "markdown",
      "metadata": {
        "id": "dofPuUDIr9k_"
      },
      "source": [
        "**GET THE DATASET**"
      ]
    },
    {
      "cell_type": "code",
      "metadata": {
        "colab": {
          "resources": {
            "http://localhost:8080/nbextensions/google.colab/files.js": {
              "data": "Ly8gQ29weXJpZ2h0IDIwMTcgR29vZ2xlIExMQwovLwovLyBMaWNlbnNlZCB1bmRlciB0aGUgQXBhY2hlIExpY2Vuc2UsIFZlcnNpb24gMi4wICh0aGUgIkxpY2Vuc2UiKTsKLy8geW91IG1heSBub3QgdXNlIHRoaXMgZmlsZSBleGNlcHQgaW4gY29tcGxpYW5jZSB3aXRoIHRoZSBMaWNlbnNlLgovLyBZb3UgbWF5IG9idGFpbiBhIGNvcHkgb2YgdGhlIExpY2Vuc2UgYXQKLy8KLy8gICAgICBodHRwOi8vd3d3LmFwYWNoZS5vcmcvbGljZW5zZXMvTElDRU5TRS0yLjAKLy8KLy8gVW5sZXNzIHJlcXVpcmVkIGJ5IGFwcGxpY2FibGUgbGF3IG9yIGFncmVlZCB0byBpbiB3cml0aW5nLCBzb2Z0d2FyZQovLyBkaXN0cmlidXRlZCB1bmRlciB0aGUgTGljZW5zZSBpcyBkaXN0cmlidXRlZCBvbiBhbiAiQVMgSVMiIEJBU0lTLAovLyBXSVRIT1VUIFdBUlJBTlRJRVMgT1IgQ09ORElUSU9OUyBPRiBBTlkgS0lORCwgZWl0aGVyIGV4cHJlc3Mgb3IgaW1wbGllZC4KLy8gU2VlIHRoZSBMaWNlbnNlIGZvciB0aGUgc3BlY2lmaWMgbGFuZ3VhZ2UgZ292ZXJuaW5nIHBlcm1pc3Npb25zIGFuZAovLyBsaW1pdGF0aW9ucyB1bmRlciB0aGUgTGljZW5zZS4KCi8qKgogKiBAZmlsZW92ZXJ2aWV3IEhlbHBlcnMgZm9yIGdvb2dsZS5jb2xhYiBQeXRob24gbW9kdWxlLgogKi8KKGZ1bmN0aW9uKHNjb3BlKSB7CmZ1bmN0aW9uIHNwYW4odGV4dCwgc3R5bGVBdHRyaWJ1dGVzID0ge30pIHsKICBjb25zdCBlbGVtZW50ID0gZG9jdW1lbnQuY3JlYXRlRWxlbWVudCgnc3BhbicpOwogIGVsZW1lbnQudGV4dENvbnRlbnQgPSB0ZXh0OwogIGZvciAoY29uc3Qga2V5IG9mIE9iamVjdC5rZXlzKHN0eWxlQXR0cmlidXRlcykpIHsKICAgIGVsZW1lbnQuc3R5bGVba2V5XSA9IHN0eWxlQXR0cmlidXRlc1trZXldOwogIH0KICByZXR1cm4gZWxlbWVudDsKfQoKLy8gTWF4IG51bWJlciBvZiBieXRlcyB3aGljaCB3aWxsIGJlIHVwbG9hZGVkIGF0IGEgdGltZS4KY29uc3QgTUFYX1BBWUxPQURfU0laRSA9IDEwMCAqIDEwMjQ7CgpmdW5jdGlvbiBfdXBsb2FkRmlsZXMoaW5wdXRJZCwgb3V0cHV0SWQpIHsKICBjb25zdCBzdGVwcyA9IHVwbG9hZEZpbGVzU3RlcChpbnB1dElkLCBvdXRwdXRJZCk7CiAgY29uc3Qgb3V0cHV0RWxlbWVudCA9IGRvY3VtZW50LmdldEVsZW1lbnRCeUlkKG91dHB1dElkKTsKICAvLyBDYWNoZSBzdGVwcyBvbiB0aGUgb3V0cHV0RWxlbWVudCB0byBtYWtlIGl0IGF2YWlsYWJsZSBmb3IgdGhlIG5leHQgY2FsbAogIC8vIHRvIHVwbG9hZEZpbGVzQ29udGludWUgZnJvbSBQeXRob24uCiAgb3V0cHV0RWxlbWVudC5zdGVwcyA9IHN0ZXBzOwoKICByZXR1cm4gX3VwbG9hZEZpbGVzQ29udGludWUob3V0cHV0SWQpOwp9CgovLyBUaGlzIGlzIHJvdWdobHkgYW4gYXN5bmMgZ2VuZXJhdG9yIChub3Qgc3VwcG9ydGVkIGluIHRoZSBicm93c2VyIHlldCksCi8vIHdoZXJlIHRoZXJlIGFyZSBtdWx0aXBsZSBhc3luY2hyb25vdXMgc3RlcHMgYW5kIHRoZSBQeXRob24gc2lkZSBpcyBnb2luZwovLyB0byBwb2xsIGZvciBjb21wbGV0aW9uIG9mIGVhY2ggc3RlcC4KLy8gVGhpcyB1c2VzIGEgUHJvbWlzZSB0byBibG9jayB0aGUgcHl0aG9uIHNpZGUgb24gY29tcGxldGlvbiBvZiBlYWNoIHN0ZXAsCi8vIHRoZW4gcGFzc2VzIHRoZSByZXN1bHQgb2YgdGhlIHByZXZpb3VzIHN0ZXAgYXMgdGhlIGlucHV0IHRvIHRoZSBuZXh0IHN0ZXAuCmZ1bmN0aW9uIF91cGxvYWRGaWxlc0NvbnRpbnVlKG91dHB1dElkKSB7CiAgY29uc3Qgb3V0cHV0RWxlbWVudCA9IGRvY3VtZW50LmdldEVsZW1lbnRCeUlkKG91dHB1dElkKTsKICBjb25zdCBzdGVwcyA9IG91dHB1dEVsZW1lbnQuc3RlcHM7CgogIGNvbnN0IG5leHQgPSBzdGVwcy5uZXh0KG91dHB1dEVsZW1lbnQubGFzdFByb21pc2VWYWx1ZSk7CiAgcmV0dXJuIFByb21pc2UucmVzb2x2ZShuZXh0LnZhbHVlLnByb21pc2UpLnRoZW4oKHZhbHVlKSA9PiB7CiAgICAvLyBDYWNoZSB0aGUgbGFzdCBwcm9taXNlIHZhbHVlIHRvIG1ha2UgaXQgYXZhaWxhYmxlIHRvIHRoZSBuZXh0CiAgICAvLyBzdGVwIG9mIHRoZSBnZW5lcmF0b3IuCiAgICBvdXRwdXRFbGVtZW50Lmxhc3RQcm9taXNlVmFsdWUgPSB2YWx1ZTsKICAgIHJldHVybiBuZXh0LnZhbHVlLnJlc3BvbnNlOwogIH0pOwp9CgovKioKICogR2VuZXJhdG9yIGZ1bmN0aW9uIHdoaWNoIGlzIGNhbGxlZCBiZXR3ZWVuIGVhY2ggYXN5bmMgc3RlcCBvZiB0aGUgdXBsb2FkCiAqIHByb2Nlc3MuCiAqIEBwYXJhbSB7c3RyaW5nfSBpbnB1dElkIEVsZW1lbnQgSUQgb2YgdGhlIGlucHV0IGZpbGUgcGlja2VyIGVsZW1lbnQuCiAqIEBwYXJhbSB7c3RyaW5nfSBvdXRwdXRJZCBFbGVtZW50IElEIG9mIHRoZSBvdXRwdXQgZGlzcGxheS4KICogQHJldHVybiB7IUl0ZXJhYmxlPCFPYmplY3Q+fSBJdGVyYWJsZSBvZiBuZXh0IHN0ZXBzLgogKi8KZnVuY3Rpb24qIHVwbG9hZEZpbGVzU3RlcChpbnB1dElkLCBvdXRwdXRJZCkgewogIGNvbnN0IGlucHV0RWxlbWVudCA9IGRvY3VtZW50LmdldEVsZW1lbnRCeUlkKGlucHV0SWQpOwogIGlucHV0RWxlbWVudC5kaXNhYmxlZCA9IGZhbHNlOwoKICBjb25zdCBvdXRwdXRFbGVtZW50ID0gZG9jdW1lbnQuZ2V0RWxlbWVudEJ5SWQob3V0cHV0SWQpOwogIG91dHB1dEVsZW1lbnQuaW5uZXJIVE1MID0gJyc7CgogIGNvbnN0IHBpY2tlZFByb21pc2UgPSBuZXcgUHJvbWlzZSgocmVzb2x2ZSkgPT4gewogICAgaW5wdXRFbGVtZW50LmFkZEV2ZW50TGlzdGVuZXIoJ2NoYW5nZScsIChlKSA9PiB7CiAgICAgIHJlc29sdmUoZS50YXJnZXQuZmlsZXMpOwogICAgfSk7CiAgfSk7CgogIGNvbnN0IGNhbmNlbCA9IGRvY3VtZW50LmNyZWF0ZUVsZW1lbnQoJ2J1dHRvbicpOwogIGlucHV0RWxlbWVudC5wYXJlbnRFbGVtZW50LmFwcGVuZENoaWxkKGNhbmNlbCk7CiAgY2FuY2VsLnRleHRDb250ZW50ID0gJ0NhbmNlbCB1cGxvYWQnOwogIGNvbnN0IGNhbmNlbFByb21pc2UgPSBuZXcgUHJvbWlzZSgocmVzb2x2ZSkgPT4gewogICAgY2FuY2VsLm9uY2xpY2sgPSAoKSA9PiB7CiAgICAgIHJlc29sdmUobnVsbCk7CiAgICB9OwogIH0pOwoKICAvLyBXYWl0IGZvciB0aGUgdXNlciB0byBwaWNrIHRoZSBmaWxlcy4KICBjb25zdCBmaWxlcyA9IHlpZWxkIHsKICAgIHByb21pc2U6IFByb21pc2UucmFjZShbcGlja2VkUHJvbWlzZSwgY2FuY2VsUHJvbWlzZV0pLAogICAgcmVzcG9uc2U6IHsKICAgICAgYWN0aW9uOiAnc3RhcnRpbmcnLAogICAgfQogIH07CgogIGNhbmNlbC5yZW1vdmUoKTsKCiAgLy8gRGlzYWJsZSB0aGUgaW5wdXQgZWxlbWVudCBzaW5jZSBmdXJ0aGVyIHBpY2tzIGFyZSBub3QgYWxsb3dlZC4KICBpbnB1dEVsZW1lbnQuZGlzYWJsZWQgPSB0cnVlOwoKICBpZiAoIWZpbGVzKSB7CiAgICByZXR1cm4gewogICAgICByZXNwb25zZTogewogICAgICAgIGFjdGlvbjogJ2NvbXBsZXRlJywKICAgICAgfQogICAgfTsKICB9CgogIGZvciAoY29uc3QgZmlsZSBvZiBmaWxlcykgewogICAgY29uc3QgbGkgPSBkb2N1bWVudC5jcmVhdGVFbGVtZW50KCdsaScpOwogICAgbGkuYXBwZW5kKHNwYW4oZmlsZS5uYW1lLCB7Zm9udFdlaWdodDogJ2JvbGQnfSkpOwogICAgbGkuYXBwZW5kKHNwYW4oCiAgICAgICAgYCgke2ZpbGUudHlwZSB8fCAnbi9hJ30pIC0gJHtmaWxlLnNpemV9IGJ5dGVzLCBgICsKICAgICAgICBgbGFzdCBtb2RpZmllZDogJHsKICAgICAgICAgICAgZmlsZS5sYXN0TW9kaWZpZWREYXRlID8gZmlsZS5sYXN0TW9kaWZpZWREYXRlLnRvTG9jYWxlRGF0ZVN0cmluZygpIDoKICAgICAgICAgICAgICAgICAgICAgICAgICAgICAgICAgICAgJ24vYSd9IC0gYCkpOwogICAgY29uc3QgcGVyY2VudCA9IHNwYW4oJzAlIGRvbmUnKTsKICAgIGxpLmFwcGVuZENoaWxkKHBlcmNlbnQpOwoKICAgIG91dHB1dEVsZW1lbnQuYXBwZW5kQ2hpbGQobGkpOwoKICAgIGNvbnN0IGZpbGVEYXRhUHJvbWlzZSA9IG5ldyBQcm9taXNlKChyZXNvbHZlKSA9PiB7CiAgICAgIGNvbnN0IHJlYWRlciA9IG5ldyBGaWxlUmVhZGVyKCk7CiAgICAgIHJlYWRlci5vbmxvYWQgPSAoZSkgPT4gewogICAgICAgIHJlc29sdmUoZS50YXJnZXQucmVzdWx0KTsKICAgICAgfTsKICAgICAgcmVhZGVyLnJlYWRBc0FycmF5QnVmZmVyKGZpbGUpOwogICAgfSk7CiAgICAvLyBXYWl0IGZvciB0aGUgZGF0YSB0byBiZSByZWFkeS4KICAgIGxldCBmaWxlRGF0YSA9IHlpZWxkIHsKICAgICAgcHJvbWlzZTogZmlsZURhdGFQcm9taXNlLAogICAgICByZXNwb25zZTogewogICAgICAgIGFjdGlvbjogJ2NvbnRpbnVlJywKICAgICAgfQogICAgfTsKCiAgICAvLyBVc2UgYSBjaHVua2VkIHNlbmRpbmcgdG8gYXZvaWQgbWVzc2FnZSBzaXplIGxpbWl0cy4gU2VlIGIvNjIxMTU2NjAuCiAgICBsZXQgcG9zaXRpb24gPSAwOwogICAgZG8gewogICAgICBjb25zdCBsZW5ndGggPSBNYXRoLm1pbihmaWxlRGF0YS5ieXRlTGVuZ3RoIC0gcG9zaXRpb24sIE1BWF9QQVlMT0FEX1NJWkUpOwogICAgICBjb25zdCBjaHVuayA9IG5ldyBVaW50OEFycmF5KGZpbGVEYXRhLCBwb3NpdGlvbiwgbGVuZ3RoKTsKICAgICAgcG9zaXRpb24gKz0gbGVuZ3RoOwoKICAgICAgY29uc3QgYmFzZTY0ID0gYnRvYShTdHJpbmcuZnJvbUNoYXJDb2RlLmFwcGx5KG51bGwsIGNodW5rKSk7CiAgICAgIHlpZWxkIHsKICAgICAgICByZXNwb25zZTogewogICAgICAgICAgYWN0aW9uOiAnYXBwZW5kJywKICAgICAgICAgIGZpbGU6IGZpbGUubmFtZSwKICAgICAgICAgIGRhdGE6IGJhc2U2NCwKICAgICAgICB9LAogICAgICB9OwoKICAgICAgbGV0IHBlcmNlbnREb25lID0gZmlsZURhdGEuYnl0ZUxlbmd0aCA9PT0gMCA/CiAgICAgICAgICAxMDAgOgogICAgICAgICAgTWF0aC5yb3VuZCgocG9zaXRpb24gLyBmaWxlRGF0YS5ieXRlTGVuZ3RoKSAqIDEwMCk7CiAgICAgIHBlcmNlbnQudGV4dENvbnRlbnQgPSBgJHtwZXJjZW50RG9uZX0lIGRvbmVgOwoKICAgIH0gd2hpbGUgKHBvc2l0aW9uIDwgZmlsZURhdGEuYnl0ZUxlbmd0aCk7CiAgfQoKICAvLyBBbGwgZG9uZS4KICB5aWVsZCB7CiAgICByZXNwb25zZTogewogICAgICBhY3Rpb246ICdjb21wbGV0ZScsCiAgICB9CiAgfTsKfQoKc2NvcGUuZ29vZ2xlID0gc2NvcGUuZ29vZ2xlIHx8IHt9OwpzY29wZS5nb29nbGUuY29sYWIgPSBzY29wZS5nb29nbGUuY29sYWIgfHwge307CnNjb3BlLmdvb2dsZS5jb2xhYi5fZmlsZXMgPSB7CiAgX3VwbG9hZEZpbGVzLAogIF91cGxvYWRGaWxlc0NvbnRpbnVlLAp9Owp9KShzZWxmKTsK",
              "ok": true,
              "headers": [
                [
                  "content-type",
                  "application/javascript"
                ]
              ],
              "status": 200,
              "status_text": ""
            }
          },
          "base_uri": "https://localhost:8080/",
          "height": 72
        },
        "id": "xtgHOk0YsKyw",
        "outputId": "8e5f7b2c-0f95-4edb-c7df-c16d8ebebdec"
      },
      "source": [
        "from google.colab import files\n",
        "  \n",
        "  \n",
        "uploaded = files.upload()"
      ],
      "execution_count": 4,
      "outputs": [
        {
          "output_type": "display_data",
          "data": {
            "text/html": [
              "\n",
              "     <input type=\"file\" id=\"files-2eb3995f-710c-4afc-a16c-963f6c4cd1ac\" name=\"files[]\" multiple disabled\n",
              "        style=\"border:none\" />\n",
              "     <output id=\"result-2eb3995f-710c-4afc-a16c-963f6c4cd1ac\">\n",
              "      Upload widget is only available when the cell has been executed in the\n",
              "      current browser session. Please rerun this cell to enable.\n",
              "      </output>\n",
              "      <script src=\"/nbextensions/google.colab/files.js\"></script> "
            ],
            "text/plain": [
              "<IPython.core.display.HTML object>"
            ]
          },
          "metadata": {
            "tags": []
          }
        },
        {
          "output_type": "stream",
          "text": [
            "Saving Iris.csv to Iris.csv\n"
          ],
          "name": "stdout"
        }
      ]
    },
    {
      "cell_type": "code",
      "metadata": {
        "colab": {
          "base_uri": "https://localhost:8080/"
        },
        "id": "8G_2_IEdvVps",
        "outputId": "5ece2511-2e4f-47cf-ca93-dd195d3b9f3c"
      },
      "source": [
        "\n",
        "\n",
        "  \n",
        "df = pd.read_csv('Iris.csv')\n",
        "print(df.to_string())"
      ],
      "execution_count": 8,
      "outputs": [
        {
          "output_type": "stream",
          "text": [
            "      Id  SepalLengthCm  SepalWidthCm  PetalLengthCm  PetalWidthCm          Species\n",
            "0      1            5.1           3.5            1.4           0.2      Iris-setosa\n",
            "1      2            4.9           3.0            1.4           0.2      Iris-setosa\n",
            "2      3            4.7           3.2            1.3           0.2      Iris-setosa\n",
            "3      4            4.6           3.1            1.5           0.2      Iris-setosa\n",
            "4      5            5.0           3.6            1.4           0.2      Iris-setosa\n",
            "5      6            5.4           3.9            1.7           0.4      Iris-setosa\n",
            "6      7            4.6           3.4            1.4           0.3      Iris-setosa\n",
            "7      8            5.0           3.4            1.5           0.2      Iris-setosa\n",
            "8      9            4.4           2.9            1.4           0.2      Iris-setosa\n",
            "9     10            4.9           3.1            1.5           0.1      Iris-setosa\n",
            "10    11            5.4           3.7            1.5           0.2      Iris-setosa\n",
            "11    12            4.8           3.4            1.6           0.2      Iris-setosa\n",
            "12    13            4.8           3.0            1.4           0.1      Iris-setosa\n",
            "13    14            4.3           3.0            1.1           0.1      Iris-setosa\n",
            "14    15            5.8           4.0            1.2           0.2      Iris-setosa\n",
            "15    16            5.7           4.4            1.5           0.4      Iris-setosa\n",
            "16    17            5.4           3.9            1.3           0.4      Iris-setosa\n",
            "17    18            5.1           3.5            1.4           0.3      Iris-setosa\n",
            "18    19            5.7           3.8            1.7           0.3      Iris-setosa\n",
            "19    20            5.1           3.8            1.5           0.3      Iris-setosa\n",
            "20    21            5.4           3.4            1.7           0.2      Iris-setosa\n",
            "21    22            5.1           3.7            1.5           0.4      Iris-setosa\n",
            "22    23            4.6           3.6            1.0           0.2      Iris-setosa\n",
            "23    24            5.1           3.3            1.7           0.5      Iris-setosa\n",
            "24    25            4.8           3.4            1.9           0.2      Iris-setosa\n",
            "25    26            5.0           3.0            1.6           0.2      Iris-setosa\n",
            "26    27            5.0           3.4            1.6           0.4      Iris-setosa\n",
            "27    28            5.2           3.5            1.5           0.2      Iris-setosa\n",
            "28    29            5.2           3.4            1.4           0.2      Iris-setosa\n",
            "29    30            4.7           3.2            1.6           0.2      Iris-setosa\n",
            "30    31            4.8           3.1            1.6           0.2      Iris-setosa\n",
            "31    32            5.4           3.4            1.5           0.4      Iris-setosa\n",
            "32    33            5.2           4.1            1.5           0.1      Iris-setosa\n",
            "33    34            5.5           4.2            1.4           0.2      Iris-setosa\n",
            "34    35            4.9           3.1            1.5           0.1      Iris-setosa\n",
            "35    36            5.0           3.2            1.2           0.2      Iris-setosa\n",
            "36    37            5.5           3.5            1.3           0.2      Iris-setosa\n",
            "37    38            4.9           3.1            1.5           0.1      Iris-setosa\n",
            "38    39            4.4           3.0            1.3           0.2      Iris-setosa\n",
            "39    40            5.1           3.4            1.5           0.2      Iris-setosa\n",
            "40    41            5.0           3.5            1.3           0.3      Iris-setosa\n",
            "41    42            4.5           2.3            1.3           0.3      Iris-setosa\n",
            "42    43            4.4           3.2            1.3           0.2      Iris-setosa\n",
            "43    44            5.0           3.5            1.6           0.6      Iris-setosa\n",
            "44    45            5.1           3.8            1.9           0.4      Iris-setosa\n",
            "45    46            4.8           3.0            1.4           0.3      Iris-setosa\n",
            "46    47            5.1           3.8            1.6           0.2      Iris-setosa\n",
            "47    48            4.6           3.2            1.4           0.2      Iris-setosa\n",
            "48    49            5.3           3.7            1.5           0.2      Iris-setosa\n",
            "49    50            5.0           3.3            1.4           0.2      Iris-setosa\n",
            "50    51            7.0           3.2            4.7           1.4  Iris-versicolor\n",
            "51    52            6.4           3.2            4.5           1.5  Iris-versicolor\n",
            "52    53            6.9           3.1            4.9           1.5  Iris-versicolor\n",
            "53    54            5.5           2.3            4.0           1.3  Iris-versicolor\n",
            "54    55            6.5           2.8            4.6           1.5  Iris-versicolor\n",
            "55    56            5.7           2.8            4.5           1.3  Iris-versicolor\n",
            "56    57            6.3           3.3            4.7           1.6  Iris-versicolor\n",
            "57    58            4.9           2.4            3.3           1.0  Iris-versicolor\n",
            "58    59            6.6           2.9            4.6           1.3  Iris-versicolor\n",
            "59    60            5.2           2.7            3.9           1.4  Iris-versicolor\n",
            "60    61            5.0           2.0            3.5           1.0  Iris-versicolor\n",
            "61    62            5.9           3.0            4.2           1.5  Iris-versicolor\n",
            "62    63            6.0           2.2            4.0           1.0  Iris-versicolor\n",
            "63    64            6.1           2.9            4.7           1.4  Iris-versicolor\n",
            "64    65            5.6           2.9            3.6           1.3  Iris-versicolor\n",
            "65    66            6.7           3.1            4.4           1.4  Iris-versicolor\n",
            "66    67            5.6           3.0            4.5           1.5  Iris-versicolor\n",
            "67    68            5.8           2.7            4.1           1.0  Iris-versicolor\n",
            "68    69            6.2           2.2            4.5           1.5  Iris-versicolor\n",
            "69    70            5.6           2.5            3.9           1.1  Iris-versicolor\n",
            "70    71            5.9           3.2            4.8           1.8  Iris-versicolor\n",
            "71    72            6.1           2.8            4.0           1.3  Iris-versicolor\n",
            "72    73            6.3           2.5            4.9           1.5  Iris-versicolor\n",
            "73    74            6.1           2.8            4.7           1.2  Iris-versicolor\n",
            "74    75            6.4           2.9            4.3           1.3  Iris-versicolor\n",
            "75    76            6.6           3.0            4.4           1.4  Iris-versicolor\n",
            "76    77            6.8           2.8            4.8           1.4  Iris-versicolor\n",
            "77    78            6.7           3.0            5.0           1.7  Iris-versicolor\n",
            "78    79            6.0           2.9            4.5           1.5  Iris-versicolor\n",
            "79    80            5.7           2.6            3.5           1.0  Iris-versicolor\n",
            "80    81            5.5           2.4            3.8           1.1  Iris-versicolor\n",
            "81    82            5.5           2.4            3.7           1.0  Iris-versicolor\n",
            "82    83            5.8           2.7            3.9           1.2  Iris-versicolor\n",
            "83    84            6.0           2.7            5.1           1.6  Iris-versicolor\n",
            "84    85            5.4           3.0            4.5           1.5  Iris-versicolor\n",
            "85    86            6.0           3.4            4.5           1.6  Iris-versicolor\n",
            "86    87            6.7           3.1            4.7           1.5  Iris-versicolor\n",
            "87    88            6.3           2.3            4.4           1.3  Iris-versicolor\n",
            "88    89            5.6           3.0            4.1           1.3  Iris-versicolor\n",
            "89    90            5.5           2.5            4.0           1.3  Iris-versicolor\n",
            "90    91            5.5           2.6            4.4           1.2  Iris-versicolor\n",
            "91    92            6.1           3.0            4.6           1.4  Iris-versicolor\n",
            "92    93            5.8           2.6            4.0           1.2  Iris-versicolor\n",
            "93    94            5.0           2.3            3.3           1.0  Iris-versicolor\n",
            "94    95            5.6           2.7            4.2           1.3  Iris-versicolor\n",
            "95    96            5.7           3.0            4.2           1.2  Iris-versicolor\n",
            "96    97            5.7           2.9            4.2           1.3  Iris-versicolor\n",
            "97    98            6.2           2.9            4.3           1.3  Iris-versicolor\n",
            "98    99            5.1           2.5            3.0           1.1  Iris-versicolor\n",
            "99   100            5.7           2.8            4.1           1.3  Iris-versicolor\n",
            "100  101            6.3           3.3            6.0           2.5   Iris-virginica\n",
            "101  102            5.8           2.7            5.1           1.9   Iris-virginica\n",
            "102  103            7.1           3.0            5.9           2.1   Iris-virginica\n",
            "103  104            6.3           2.9            5.6           1.8   Iris-virginica\n",
            "104  105            6.5           3.0            5.8           2.2   Iris-virginica\n",
            "105  106            7.6           3.0            6.6           2.1   Iris-virginica\n",
            "106  107            4.9           2.5            4.5           1.7   Iris-virginica\n",
            "107  108            7.3           2.9            6.3           1.8   Iris-virginica\n",
            "108  109            6.7           2.5            5.8           1.8   Iris-virginica\n",
            "109  110            7.2           3.6            6.1           2.5   Iris-virginica\n",
            "110  111            6.5           3.2            5.1           2.0   Iris-virginica\n",
            "111  112            6.4           2.7            5.3           1.9   Iris-virginica\n",
            "112  113            6.8           3.0            5.5           2.1   Iris-virginica\n",
            "113  114            5.7           2.5            5.0           2.0   Iris-virginica\n",
            "114  115            5.8           2.8            5.1           2.4   Iris-virginica\n",
            "115  116            6.4           3.2            5.3           2.3   Iris-virginica\n",
            "116  117            6.5           3.0            5.5           1.8   Iris-virginica\n",
            "117  118            7.7           3.8            6.7           2.2   Iris-virginica\n",
            "118  119            7.7           2.6            6.9           2.3   Iris-virginica\n",
            "119  120            6.0           2.2            5.0           1.5   Iris-virginica\n",
            "120  121            6.9           3.2            5.7           2.3   Iris-virginica\n",
            "121  122            5.6           2.8            4.9           2.0   Iris-virginica\n",
            "122  123            7.7           2.8            6.7           2.0   Iris-virginica\n",
            "123  124            6.3           2.7            4.9           1.8   Iris-virginica\n",
            "124  125            6.7           3.3            5.7           2.1   Iris-virginica\n",
            "125  126            7.2           3.2            6.0           1.8   Iris-virginica\n",
            "126  127            6.2           2.8            4.8           1.8   Iris-virginica\n",
            "127  128            6.1           3.0            4.9           1.8   Iris-virginica\n",
            "128  129            6.4           2.8            5.6           2.1   Iris-virginica\n",
            "129  130            7.2           3.0            5.8           1.6   Iris-virginica\n",
            "130  131            7.4           2.8            6.1           1.9   Iris-virginica\n",
            "131  132            7.9           3.8            6.4           2.0   Iris-virginica\n",
            "132  133            6.4           2.8            5.6           2.2   Iris-virginica\n",
            "133  134            6.3           2.8            5.1           1.5   Iris-virginica\n",
            "134  135            6.1           2.6            5.6           1.4   Iris-virginica\n",
            "135  136            7.7           3.0            6.1           2.3   Iris-virginica\n",
            "136  137            6.3           3.4            5.6           2.4   Iris-virginica\n",
            "137  138            6.4           3.1            5.5           1.8   Iris-virginica\n",
            "138  139            6.0           3.0            4.8           1.8   Iris-virginica\n",
            "139  140            6.9           3.1            5.4           2.1   Iris-virginica\n",
            "140  141            6.7           3.1            5.6           2.4   Iris-virginica\n",
            "141  142            6.9           3.1            5.1           2.3   Iris-virginica\n",
            "142  143            5.8           2.7            5.1           1.9   Iris-virginica\n",
            "143  144            6.8           3.2            5.9           2.3   Iris-virginica\n",
            "144  145            6.7           3.3            5.7           2.5   Iris-virginica\n",
            "145  146            6.7           3.0            5.2           2.3   Iris-virginica\n",
            "146  147            6.3           2.5            5.0           1.9   Iris-virginica\n",
            "147  148            6.5           3.0            5.2           2.0   Iris-virginica\n",
            "148  149            6.2           3.4            5.4           2.3   Iris-virginica\n",
            "149  150            5.9           3.0            5.1           1.8   Iris-virginica\n"
          ],
          "name": "stdout"
        }
      ]
    },
    {
      "cell_type": "code",
      "metadata": {
        "colab": {
          "base_uri": "https://localhost:8080/",
          "height": 204
        },
        "id": "kUUlm7Dmw8Nd",
        "outputId": "ca53ed73-1464-4285-ff3c-8a54d94d0e70"
      },
      "source": [
        "df.head()"
      ],
      "execution_count": 9,
      "outputs": [
        {
          "output_type": "execute_result",
          "data": {
            "text/html": [
              "<div>\n",
              "<style scoped>\n",
              "    .dataframe tbody tr th:only-of-type {\n",
              "        vertical-align: middle;\n",
              "    }\n",
              "\n",
              "    .dataframe tbody tr th {\n",
              "        vertical-align: top;\n",
              "    }\n",
              "\n",
              "    .dataframe thead th {\n",
              "        text-align: right;\n",
              "    }\n",
              "</style>\n",
              "<table border=\"1\" class=\"dataframe\">\n",
              "  <thead>\n",
              "    <tr style=\"text-align: right;\">\n",
              "      <th></th>\n",
              "      <th>Id</th>\n",
              "      <th>SepalLengthCm</th>\n",
              "      <th>SepalWidthCm</th>\n",
              "      <th>PetalLengthCm</th>\n",
              "      <th>PetalWidthCm</th>\n",
              "      <th>Species</th>\n",
              "    </tr>\n",
              "  </thead>\n",
              "  <tbody>\n",
              "    <tr>\n",
              "      <th>0</th>\n",
              "      <td>1</td>\n",
              "      <td>5.1</td>\n",
              "      <td>3.5</td>\n",
              "      <td>1.4</td>\n",
              "      <td>0.2</td>\n",
              "      <td>Iris-setosa</td>\n",
              "    </tr>\n",
              "    <tr>\n",
              "      <th>1</th>\n",
              "      <td>2</td>\n",
              "      <td>4.9</td>\n",
              "      <td>3.0</td>\n",
              "      <td>1.4</td>\n",
              "      <td>0.2</td>\n",
              "      <td>Iris-setosa</td>\n",
              "    </tr>\n",
              "    <tr>\n",
              "      <th>2</th>\n",
              "      <td>3</td>\n",
              "      <td>4.7</td>\n",
              "      <td>3.2</td>\n",
              "      <td>1.3</td>\n",
              "      <td>0.2</td>\n",
              "      <td>Iris-setosa</td>\n",
              "    </tr>\n",
              "    <tr>\n",
              "      <th>3</th>\n",
              "      <td>4</td>\n",
              "      <td>4.6</td>\n",
              "      <td>3.1</td>\n",
              "      <td>1.5</td>\n",
              "      <td>0.2</td>\n",
              "      <td>Iris-setosa</td>\n",
              "    </tr>\n",
              "    <tr>\n",
              "      <th>4</th>\n",
              "      <td>5</td>\n",
              "      <td>5.0</td>\n",
              "      <td>3.6</td>\n",
              "      <td>1.4</td>\n",
              "      <td>0.2</td>\n",
              "      <td>Iris-setosa</td>\n",
              "    </tr>\n",
              "  </tbody>\n",
              "</table>\n",
              "</div>"
            ],
            "text/plain": [
              "   Id  SepalLengthCm  SepalWidthCm  PetalLengthCm  PetalWidthCm      Species\n",
              "0   1            5.1           3.5            1.4           0.2  Iris-setosa\n",
              "1   2            4.9           3.0            1.4           0.2  Iris-setosa\n",
              "2   3            4.7           3.2            1.3           0.2  Iris-setosa\n",
              "3   4            4.6           3.1            1.5           0.2  Iris-setosa\n",
              "4   5            5.0           3.6            1.4           0.2  Iris-setosa"
            ]
          },
          "metadata": {
            "tags": []
          },
          "execution_count": 9
        }
      ]
    },
    {
      "cell_type": "code",
      "metadata": {
        "colab": {
          "base_uri": "https://localhost:8080/"
        },
        "id": "9ZI_yC6e1FLl",
        "outputId": "906765df-9f1a-4a13-c1b4-956997ea8dee"
      },
      "source": [
        "df['Species'].nunique()"
      ],
      "execution_count": 10,
      "outputs": [
        {
          "output_type": "execute_result",
          "data": {
            "text/plain": [
              "3"
            ]
          },
          "metadata": {
            "tags": []
          },
          "execution_count": 10
        }
      ]
    },
    {
      "cell_type": "markdown",
      "metadata": {
        "id": "kseyMKg725Dl"
      },
      "source": [
        "**DATA ANALYSIS**"
      ]
    },
    {
      "cell_type": "code",
      "metadata": {
        "id": "VVndF2lC3CqR"
      },
      "source": [
        "import matplotlib.pyplot as plt\n",
        "import seaborn as sns\n"
      ],
      "execution_count": 11,
      "outputs": []
    },
    {
      "cell_type": "code",
      "metadata": {
        "colab": {
          "base_uri": "https://localhost:8080/",
          "height": 297
        },
        "id": "orZoP0JR3dCx",
        "outputId": "85cc2b24-2cd3-4339-abee-88b6a75827f7"
      },
      "source": [
        "df.describe()"
      ],
      "execution_count": 12,
      "outputs": [
        {
          "output_type": "execute_result",
          "data": {
            "text/html": [
              "<div>\n",
              "<style scoped>\n",
              "    .dataframe tbody tr th:only-of-type {\n",
              "        vertical-align: middle;\n",
              "    }\n",
              "\n",
              "    .dataframe tbody tr th {\n",
              "        vertical-align: top;\n",
              "    }\n",
              "\n",
              "    .dataframe thead th {\n",
              "        text-align: right;\n",
              "    }\n",
              "</style>\n",
              "<table border=\"1\" class=\"dataframe\">\n",
              "  <thead>\n",
              "    <tr style=\"text-align: right;\">\n",
              "      <th></th>\n",
              "      <th>Id</th>\n",
              "      <th>SepalLengthCm</th>\n",
              "      <th>SepalWidthCm</th>\n",
              "      <th>PetalLengthCm</th>\n",
              "      <th>PetalWidthCm</th>\n",
              "    </tr>\n",
              "  </thead>\n",
              "  <tbody>\n",
              "    <tr>\n",
              "      <th>count</th>\n",
              "      <td>150.000000</td>\n",
              "      <td>150.000000</td>\n",
              "      <td>150.000000</td>\n",
              "      <td>150.000000</td>\n",
              "      <td>150.000000</td>\n",
              "    </tr>\n",
              "    <tr>\n",
              "      <th>mean</th>\n",
              "      <td>75.500000</td>\n",
              "      <td>5.843333</td>\n",
              "      <td>3.054000</td>\n",
              "      <td>3.758667</td>\n",
              "      <td>1.198667</td>\n",
              "    </tr>\n",
              "    <tr>\n",
              "      <th>std</th>\n",
              "      <td>43.445368</td>\n",
              "      <td>0.828066</td>\n",
              "      <td>0.433594</td>\n",
              "      <td>1.764420</td>\n",
              "      <td>0.763161</td>\n",
              "    </tr>\n",
              "    <tr>\n",
              "      <th>min</th>\n",
              "      <td>1.000000</td>\n",
              "      <td>4.300000</td>\n",
              "      <td>2.000000</td>\n",
              "      <td>1.000000</td>\n",
              "      <td>0.100000</td>\n",
              "    </tr>\n",
              "    <tr>\n",
              "      <th>25%</th>\n",
              "      <td>38.250000</td>\n",
              "      <td>5.100000</td>\n",
              "      <td>2.800000</td>\n",
              "      <td>1.600000</td>\n",
              "      <td>0.300000</td>\n",
              "    </tr>\n",
              "    <tr>\n",
              "      <th>50%</th>\n",
              "      <td>75.500000</td>\n",
              "      <td>5.800000</td>\n",
              "      <td>3.000000</td>\n",
              "      <td>4.350000</td>\n",
              "      <td>1.300000</td>\n",
              "    </tr>\n",
              "    <tr>\n",
              "      <th>75%</th>\n",
              "      <td>112.750000</td>\n",
              "      <td>6.400000</td>\n",
              "      <td>3.300000</td>\n",
              "      <td>5.100000</td>\n",
              "      <td>1.800000</td>\n",
              "    </tr>\n",
              "    <tr>\n",
              "      <th>max</th>\n",
              "      <td>150.000000</td>\n",
              "      <td>7.900000</td>\n",
              "      <td>4.400000</td>\n",
              "      <td>6.900000</td>\n",
              "      <td>2.500000</td>\n",
              "    </tr>\n",
              "  </tbody>\n",
              "</table>\n",
              "</div>"
            ],
            "text/plain": [
              "               Id  SepalLengthCm  SepalWidthCm  PetalLengthCm  PetalWidthCm\n",
              "count  150.000000     150.000000    150.000000     150.000000    150.000000\n",
              "mean    75.500000       5.843333      3.054000       3.758667      1.198667\n",
              "std     43.445368       0.828066      0.433594       1.764420      0.763161\n",
              "min      1.000000       4.300000      2.000000       1.000000      0.100000\n",
              "25%     38.250000       5.100000      2.800000       1.600000      0.300000\n",
              "50%     75.500000       5.800000      3.000000       4.350000      1.300000\n",
              "75%    112.750000       6.400000      3.300000       5.100000      1.800000\n",
              "max    150.000000       7.900000      4.400000       6.900000      2.500000"
            ]
          },
          "metadata": {
            "tags": []
          },
          "execution_count": 12
        }
      ]
    },
    {
      "cell_type": "code",
      "metadata": {
        "colab": {
          "base_uri": "https://localhost:8080/",
          "height": 312
        },
        "id": "S8cHOBsi47vz",
        "outputId": "6538b3f1-68ca-4f07-ca31-a2426d15d0ab"
      },
      "source": [
        "plt.title('Species Count')\n",
        "sns.countplot(df['Species'])"
      ],
      "execution_count": 13,
      "outputs": [
        {
          "output_type": "execute_result",
          "data": {
            "text/plain": [
              "<matplotlib.axes._subplots.AxesSubplot at 0x7f914e42f290>"
            ]
          },
          "metadata": {
            "tags": []
          },
          "execution_count": 13
        },
        {
          "output_type": "display_data",
          "data": {
            "image/png": "[encoded data removed]",
            "text/plain": [
              "<Figure size 432x288 with 1 Axes>"
            ]
          },
          "metadata": {
            "tags": [],
            "needs_background": "light"
          }
        }
      ]
    },
    {
      "cell_type": "markdown",
      "metadata": {
        "id": "nT1uxgIE6Ldx"
      },
      "source": [
        "1. This visualizes that the species are balanced.\n",
        "2. Each species has 50 as its count."
      ]
    },
    {
      "cell_type": "code",
      "metadata": {
        "colab": {
          "base_uri": "https://localhost:8080/",
          "height": 584
        },
        "id": "ptt0i7k16n0o",
        "outputId": "b09521cc-0653-463f-9c42-07868d4a6bd1"
      },
      "source": [
        "plt.figure(figsize=(15,9))\n",
        "plt.title(\"Comparison between various species based on sapel length and width\")\n",
        "sns.scatterplot(df['SepalLengthCm'],df['SepalWidthCm'],hue =df['Species'],s=50)"
      ],
      "execution_count": 17,
      "outputs": [
        {
          "output_type": "execute_result",
          "data": {
            "text/plain": [
              "<matplotlib.axes._subplots.AxesSubplot at 0x7f914c699210>"
            ]
          },
          "metadata": {
            "tags": []
          },
          "execution_count": 17
        },
        {
          "output_type": "display_data",
          "data": {
            "image/png": "[encoded data removed]",
            "text/plain": [
              "<Figure size 1080x648 with 1 Axes>"
            ]
          },
          "metadata": {
            "tags": [],
            "needs_background": "light"
          }
        }
      ]
    },
    {
      "cell_type": "markdown",
      "metadata": {
        "id": "M9XNT6B0Bv6p"
      },
      "source": [
        "Data Insights:\n",
        "1. Iris Setosa species has smaller sepal length but higher width.\n",
        "2. Versicolor lies in almost middle for length as well as width\n",
        "3. Virginica has larger sepal lengths and smaller sepal widths"
      ]
    },
    {
      "cell_type": "code",
      "metadata": {
        "colab": {
          "base_uri": "https://localhost:8080/",
          "height": 584
        },
        "id": "XL27cxgBIrmp",
        "outputId": "3410fe5f-3695-49a8-e517-fc2ad9b3a00d"
      },
      "source": [
        "plt.figure(figsize=(15,9))\n",
        "plt.title(\"Comparison between various species based on petal lenght and width\")\n",
        "sns.scatterplot(df['PetalLengthCm'],df['PetalWidthCm'],hue =df['Species'],s=50)"
      ],
      "execution_count": 19,
      "outputs": [
        {
          "output_type": "execute_result",
          "data": {
            "text/plain": [
              "<matplotlib.axes._subplots.AxesSubplot at 0x7f914c5a7690>"
            ]
          },
          "metadata": {
            "tags": []
          },
          "execution_count": 19
        },
        {
          "output_type": "display_data",
          "data": {
            "image/png": "[encoded data removed]",
            "text/plain": [
              "<Figure size 1080x648 with 1 Axes>"
            ]
          },
          "metadata": {
            "tags": [],
            "needs_background": "light"
          }
        }
      ]
    },
    {
      "cell_type": "markdown",
      "metadata": {
        "id": "ntF3dukyJZDh"
      },
      "source": [
        "Data Insights\n",
        "1. Setosa species have the smallest petal length as well as petal width\n",
        "2. Versicolor species have average petal length and petal width\n",
        "3. Virginica species have the highest petal length as well as petal width"
      ]
    },
    {
      "cell_type": "code",
      "metadata": {
        "id": "Y5Nnz_CfJkdM"
      },
      "source": [
        ""
      ],
      "execution_count": null,
      "outputs": []
    },
    {
      "cell_type": "code",
      "metadata": {
        "id": "kS9is1A3B7Kq"
      },
      "source": [
        ""
      ],
      "execution_count": null,
      "outputs": []
    }
  ]
}